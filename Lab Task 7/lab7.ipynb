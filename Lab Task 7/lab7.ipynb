{
 "cells": [
  {
   "cell_type": "code",
   "execution_count": 9,
   "id": "e6ad69b6",
   "metadata": {},
   "outputs": [
    {
     "name": "stdout",
     "output_type": "stream",
     "text": [
      "the shoet path is:  ['A', 'B', 'D']\n"
     ]
    },
    {
     "data": {
      "text/plain": [
       "['A', 'B', 'D']"
      ]
     },
     "execution_count": 9,
     "metadata": {},
     "output_type": "execute_result"
    }
   ],
   "source": [
    "class a_graph:\n",
    "    def __init__ (self, graph):\n",
    "        self.graph = graph\n",
    "\n",
    "    def h_t(self, nd):\n",
    "        h = {\n",
    "            'A': 7,\n",
    "            'B': 4,\n",
    "            'C': 1,\n",
    "            'D': 0\n",
    "        }\n",
    "        return h.get(nd, 0)\n",
    "\n",
    "    def a_star(self, strt, goal):\n",
    "        op_l = [strt]\n",
    "        cl_l = []\n",
    "        g_cost = {strt: 0}\n",
    "        parnt = {strt: None}\n",
    "\n",
    "        def tot_c(nd):\n",
    "            return g_cost[nd] + self.h_t(nd)\n",
    "\n",
    "        while op_l:\n",
    "            curnt = min(op_l, key=tot_c)\n",
    "\n",
    "            if curnt == goal:\n",
    "                pth = []\n",
    "                while curnt is not None:\n",
    "                    pth.append(curnt)\n",
    "                    curnt = parnt[curnt]\n",
    "                pth.reverse()\n",
    "                print(\"the shoet path is: \", pth)\n",
    "                return pth\n",
    "\n",
    "            op_l.remove(curnt)\n",
    "            cl_l.append(curnt)\n",
    "\n",
    "            for neibr, cost in self.graph.get(curnt, []):\n",
    "                new_cost = g_cost[curnt] + cost\n",
    "\n",
    "                if neibr in cl_l:\n",
    "                    continue\n",
    "                if neibr not in op_l or new_cost < g_cost.get(neibr, float('inf')):\n",
    "                    g_cost[neibr] = new_cost\n",
    "                    parnt[neibr] = curnt\n",
    "                    if neibr not in op_l:\n",
    "                        op_l.append(neibr)\n",
    "\n",
    "        print(\"the pth not found\")\n",
    "        return None\n",
    "\n",
    "\n",
    "g_data = {\n",
    "    'A': [('B', 1), ('C', 3), ('D', 7)],\n",
    "    'B': [('D', 5)],\n",
    "    'C': [('D', 12)]\n",
    "}\n",
    "\n",
    "g = a_graph(g_data)\n",
    "g.a_star('A', 'D')"
   ]
  }
 ],
 "metadata": {
  "kernelspec": {
   "display_name": "Python 3",
   "language": "python",
   "name": "python3"
  },
  "language_info": {
   "codemirror_mode": {
    "name": "ipython",
    "version": 3
   },
   "file_extension": ".py",
   "mimetype": "text/x-python",
   "name": "python",
   "nbconvert_exporter": "python",
   "pygments_lexer": "ipython3",
   "version": "3.11.3"
  }
 },
 "nbformat": 4,
 "nbformat_minor": 5
}
