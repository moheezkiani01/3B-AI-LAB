{
 "cells": [
  {
   "cell_type": "code",
   "execution_count": 1,
   "id": "a3a6f418",
   "metadata": {},
   "outputs": [
    {
     "name": "stdout",
     "output_type": "stream",
     "text": [
      "Average is: 190500000.0\n",
      "Movie Pirates of the Caribbean: On Stranger Tides has budget greater than average: 379000000\n",
      "Movie Avengers: Age of Ultron has budget greater than average: 365000000\n",
      "Movie Avengers: Endgame has budget greater than average: 356000000\n",
      "Movie Incredibles 2 has budget greater than average: 200000000\n",
      "Movie Pirates of the Caribbean: On Stranger Tides has budget 379000000 which is 188500000.0 higher than the average 190500000.0\n",
      "Movie Avengers: Age of Ultron has budget 365000000 which is 174500000.0 higher than the average 190500000.0\n",
      "Movie Avengers: Endgame has budget 356000000 which is 165500000.0 higher than the average 190500000.0\n",
      "Movie Incredibles 2 has budget 200000000 which is 9500000.0 higher than the average 190500000.0\n",
      "movies above average: 4\n"
     ]
    }
   ],
   "source": [
    "movies = [\n",
    "    (\"Eternal Sunshine of the Spotless Mind\", 20000000),\n",
    "    (\"Memento\", 9000000),\n",
    "    (\"Requiem for a Dream\", 4500000),\n",
    "    (\"Pirates of the Caribbean: On Stranger Tides\", 379000000),\n",
    "    (\"Avengers: Age of Ultron\", 365000000),\n",
    "    (\"Avengers: Endgame\", 356000000),\n",
    "    (\"Incredibles 2\", 200000000)\n",
    "]\n",
    "\n",
    "\n",
    "total_expense = (\n",
    "    movies[0][1] +\n",
    "    movies[1][1] +\n",
    "    movies[2][1] +\n",
    "    movies[3][1] +\n",
    "    movies[4][1] +\n",
    "    movies[5][1] +\n",
    "    movies[6][1]\n",
    ") \n",
    "\n",
    "average = total_expense / len(movies)\n",
    "\n",
    "print(\"Average is:\", average)\n",
    "\n",
    "\n",
    "for movie in movies:\n",
    "    if movie[1] > average:\n",
    "        print(\"Movie\", movie[0], \"has budget greater than average:\", movie[1])\n",
    "\n",
    "\n",
    "count = 0\n",
    "for movie in movies:\n",
    "    if movie[1] > average:\n",
    "        print(\"Movie\", movie[0], \"has budget\", movie[1],\"which is\", movie[1] - average, \"higher than the average\", average)\n",
    "        count = count + 1\n",
    "\n",
    "print(\"movies above average:\", count)"
   ]
  }
 ],
 "metadata": {
  "kernelspec": {
   "display_name": "Python 3",
   "language": "python",
   "name": "python3"
  },
  "language_info": {
   "codemirror_mode": {
    "name": "ipython",
    "version": 3
   },
   "file_extension": ".py",
   "mimetype": "text/x-python",
   "name": "python",
   "nbconvert_exporter": "python",
   "pygments_lexer": "ipython3",
   "version": "3.11.3"
  }
 },
 "nbformat": 4,
 "nbformat_minor": 5
}
