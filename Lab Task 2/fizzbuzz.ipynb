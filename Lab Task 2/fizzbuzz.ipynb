{
 "cells": [
  {
   "cell_type": "code",
   "execution_count": 7,
   "id": "110189a3",
   "metadata": {},
   "outputs": [
    {
     "name": "stdout",
     "output_type": "stream",
     "text": [
      "The Number is: 44\n",
      "user answer:  none\n",
      "Correct!\n",
      "The Number is: 62\n",
      "user answer:  none\n",
      "Correct!\n",
      "The Number is: 66\n",
      "user answer:  none\n",
      "Correct!\n",
      "The Number is: 20\n",
      "user answer:  none\n",
      "Correct!\n",
      "The Number is: 87\n",
      "user answer:  none\n",
      "Correct!\n",
      "The Number is: 96\n",
      "user answer:  fizz\n",
      "Correct!\n",
      "The Number is: 50\n",
      "user answer:  none\n",
      "Correct!\n",
      "The Number is: 80\n",
      "user answer:  \n",
      "Wrong! The correct answer was: buzz\n",
      "Game Over!\n"
     ]
    }
   ],
   "source": [
    "import random\n",
    "\n",
    "def fizzbuzzgame():\n",
    "    last_number = 0\n",
    "\n",
    "    while True:\n",
    "        number = random.randint(1, 100)\n",
    "        print(\"The Number is:\", number)\n",
    "\n",
    "        if last_number == 0:\n",
    "            total = number\n",
    "        else:\n",
    "            total = last_number + number\n",
    "\n",
    "        # print(\"Total =\", total)\n",
    "\n",
    "       \n",
    "        if total % 3 == 0 and total % 5 == 0:\n",
    "            correct_answer = \"fizzbuzz\"\n",
    "        elif total % 3 == 0:\n",
    "            correct_answer = \"fizz\"\n",
    "        elif total % 5 == 0:\n",
    "            correct_answer = \"buzz\"\n",
    "        else:\n",
    "            correct_answer = \"none\"\n",
    "\n",
    "        user_answer = input(\"Your answer: \")\n",
    "\n",
    "        if user_answer == correct_answer:\n",
    "            print(\"user answer: \",user_answer)\n",
    "            print(\"Correct!\")\n",
    "            \n",
    "        else:\n",
    "            print(\"user answer: \",user_answer)\n",
    "            print(\"Wrong! The correct answer was:\", correct_answer)\n",
    "            print(\"Game Over!\")\n",
    "            break\n",
    "\n",
    "        last_number = number\n",
    "\n",
    "fizzbuzzgame()\n"
   ]
  }
 ],
 "metadata": {
  "kernelspec": {
   "display_name": "Python 3",
   "language": "python",
   "name": "python3"
  },
  "language_info": {
   "codemirror_mode": {
    "name": "ipython",
    "version": 3
   },
   "file_extension": ".py",
   "mimetype": "text/x-python",
   "name": "python",
   "nbconvert_exporter": "python",
   "pygments_lexer": "ipython3",
   "version": "3.11.3"
  }
 },
 "nbformat": 4,
 "nbformat_minor": 5
}
