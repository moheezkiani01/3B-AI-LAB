{
 "cells": [
  {
   "cell_type": "code",
   "execution_count": 6,
   "id": "30aa85b6",
   "metadata": {},
   "outputs": [
    {
     "name": "stdout",
     "output_type": "stream",
     "text": [
      "Living Room: 18°C = Turn off AC\n",
      "Bedroom: 22°C = Turn ON AC\n",
      "Kitchen: 20°C = Turn off AC\n",
      "Bathroom: 24°C = Turn ON AC\n"
     ]
    }
   ],
   "source": [
    "class ModelBased:\n",
    "    def __init__(self, ideal_temp):\n",
    "        self.ideal_temp = ideal_temp\n",
    "        open(\"temp_history.txt\", \"w\").close()\n",
    "\n",
    "    def percive(self, current_temp):\n",
    "        return current_temp\n",
    "\n",
    "    def check_memory(self, current_temp):\n",
    "        with open(\"climate_history.txt\", \"r\") as file:\n",
    "            for line in file:\n",
    "                saved_temp, saved_action = line.strip().split(\",\")\n",
    "                if int(saved_temp) == current_temp:\n",
    "                    return saved_action\n",
    "        return None\n",
    "\n",
    "    def choose_action(self, current_temp):\n",
    "        r = self.check_memory(current_temp)\n",
    "        if r:\n",
    "            print(\"Using stored memory\")\n",
    "            return r\n",
    "\n",
    "        if current_temp < self.ideal_temp:\n",
    "            action = \"Turn off AC\"\n",
    "        else:\n",
    "            action = \"Turn ON AC\"\n",
    "\n",
    "        with open(\"temp_history.txt\", \"a\") as file:\n",
    "            file.write(f\"{current_temp},{action}\\n\")\n",
    "\n",
    "        return action\n",
    "\n",
    "\n",
    "rooms = {\n",
    " \"Living Room\": 18,\n",
    " \"Bedroom\": 22,\n",
    " \"Kitchen\": 20,\n",
    " \"Bathroom\": 24\n",
    "}\n",
    "\n",
    "preferred_temp = 21\n",
    "agent = ModelBased(preferred_temp)\n",
    "\n",
    "for room, temp in rooms.items():\n",
    "    decision = agent.choose_action(temp)\n",
    "    print(f\"{room}: {temp}°C = {decision}\")"
   ]
  }
 ],
 "metadata": {
  "kernelspec": {
   "display_name": "base",
   "language": "python",
   "name": "python3"
  },
  "language_info": {
   "codemirror_mode": {
    "name": "ipython",
    "version": 3
   },
   "file_extension": ".py",
   "mimetype": "text/x-python",
   "name": "python",
   "nbconvert_exporter": "python",
   "pygments_lexer": "ipython3",
   "version": "3.12.4"
  }
 },
 "nbformat": 4,
 "nbformat_minor": 5
}
