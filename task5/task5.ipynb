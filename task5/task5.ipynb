{
 "cells": [
  {
   "cell_type": "code",
   "execution_count": 2,
   "id": "53212e84",
   "metadata": {},
   "outputs": [
    {
     "name": "stdout",
     "output_type": "stream",
     "text": [
      "Node Visited nodes are:  ['a', 'b', 'd', 'e', 'c', 'f', 'g']\n"
     ]
    }
   ],
   "source": [
    "tr = {\n",
    "    \"a\": [\"b\", \"c\"],\n",
    "    \"b\": [\"d\", \"e\"],\n",
    "    \"c\": [\"f\"],\n",
    "    \"d\": [],\n",
    "    \"e\": [],\n",
    "    \"f\": [\"g\"],\n",
    "    \"g\": []\n",
    "}\n",
    "inp = input(\"Give the starting node: \")\n",
    "stack_e = [inp]\n",
    "output = []\n",
    "\n",
    "while stack_e:\n",
    "    i = stack_e.pop()\n",
    "    if i not in output:\n",
    "        output.append(i)\n",
    "        if tr[i]:\n",
    "            stack_e.extend(reversed(tr[i]))\n",
    "\n",
    "print(\"Node Visited nodes are: \", output)"
   ]
  }
 ],
 "metadata": {
  "kernelspec": {
   "display_name": "base",
   "language": "python",
   "name": "python3"
  },
  "language_info": {
   "codemirror_mode": {
    "name": "ipython",
    "version": 3
   },
   "file_extension": ".py",
   "mimetype": "text/x-python",
   "name": "python",
   "nbconvert_exporter": "python",
   "pygments_lexer": "ipython3",
   "version": "3.12.4"
  }
 },
 "nbformat": 4,
 "nbformat_minor": 5
}
