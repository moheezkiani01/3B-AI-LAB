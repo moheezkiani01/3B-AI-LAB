{
 "cells": [
  {
   "cell_type": "markdown",
   "id": "81677682",
   "metadata": {},
   "source": [
    "# Punctuate"
   ]
  },
  {
   "cell_type": "code",
   "execution_count": 1,
   "id": "bca42d4e",
   "metadata": {},
   "outputs": [
    {
     "name": "stdout",
     "output_type": "stream",
     "text": [
      "Pun removed kuchbhi\n"
     ]
    }
   ],
   "source": [
    "s = \"kuch?.bhi#^&@\"\n",
    "out = \"\"\n",
    "for c in s:\n",
    "    if c.isalpha() or c == \" \":\n",
    "        out = out + c\n",
    "print(\"Pun removed\", out)\n"
   ]
  },
  {
   "cell_type": "markdown",
   "id": "565fede4",
   "metadata": {},
   "source": [
    "# Sorting\n"
   ]
  },
  {
   "cell_type": "code",
   "execution_count": 3,
   "id": "68d15bab",
   "metadata": {},
   "outputs": [
    {
     "name": "stdout",
     "output_type": "stream",
     "text": [
      "my name is moheez\n",
      "is moheez my name\n"
     ]
    }
   ],
   "source": [
    "t = input(\"Give input: \")\n",
    "w = t.split()\n",
    "n = len(w)\n",
    "for i in range(n):\n",
    "    for j in range(n - 1 - i):\n",
    "        if w[j] > w[j + 1]:\n",
    "            w[j], w[j + 1] = w[j + 1], w[j]\n",
    "print(t)\n",
    "print(\" \".join(w))\n"
   ]
  },
  {
   "cell_type": "markdown",
   "id": "4ee912a5",
   "metadata": {},
   "source": [
    "# Cards "
   ]
  },
  {
   "cell_type": "code",
   "execution_count": 4,
   "id": "46c159b1",
   "metadata": {},
   "outputs": [
    {
     "name": "stdout",
     "output_type": "stream",
     "text": [
      "Card is correct\n"
     ]
    }
   ],
   "source": [
    "n = input(\"Give Card num \")\n",
    "last = int(n[-1])\n",
    "num = n[:-1][::-1]\n",
    "arr = []\n",
    "for i in num:\n",
    "    arr.append(int(i))\n",
    "s = 0\n",
    "i = 0\n",
    "while i < len(arr):\n",
    "    n = arr[i]\n",
    "    if i % 2 == 0:\n",
    "        n = n * 2\n",
    "        if n > 9:\n",
    "            n = n - 9\n",
    "    else:\n",
    "        pass\n",
    "    s = s + n\n",
    "    i = i + 1\n",
    "s = s + last\n",
    "if s % 10 == 0:\n",
    "    print(\"Card is correct\")\n",
    "else:\n",
    "    print(\"Warning!!! You are trying to scam\")"
   ]
  }
 ],
 "metadata": {
  "kernelspec": {
   "display_name": "Python 3",
   "language": "python",
   "name": "python3"
  },
  "language_info": {
   "codemirror_mode": {
    "name": "ipython",
    "version": 3
   },
   "file_extension": ".py",
   "mimetype": "text/x-python",
   "name": "python",
   "nbconvert_exporter": "python",
   "pygments_lexer": "ipython3",
   "version": "3.13.1"
  }
 },
 "nbformat": 4,
 "nbformat_minor": 5
}
